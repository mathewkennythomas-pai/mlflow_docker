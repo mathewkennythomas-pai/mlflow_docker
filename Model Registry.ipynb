{
 "cells": [
  {
   "cell_type": "code",
   "execution_count": 2,
   "id": "6e06cffb-a332-4c19-b9ae-d16f10719560",
   "metadata": {
    "tags": []
   },
   "outputs": [
    {
     "name": "stderr",
     "output_type": "stream",
     "text": [
      "2024/09/25 09:38:10 WARNING mlflow.models.model: Input example should be provided to infer model signature if the model signature is not provided when logging the model.\n",
      "Registered model 'Logistic_Regression_Model' already exists. Creating a new version of this model...\n",
      "Created version '2' of model 'Logistic_Regression_Model'.\n",
      "C:\\Users\\mathew.kenny\\AppData\\Local\\Temp\\ipykernel_15204\\729657894.py:39: FutureWarning: ``mlflow.tracking.client.MlflowClient.transition_model_version_stage`` is deprecated since 2.9.0. Model registry stages will be removed in a future major release. To learn more about the deprecation of model registry stages, see our migration guide here: https://mlflow.org/docs/latest/model-registry.html#migrating-from-stages\n",
      "  mlflow.tracking.MlflowClient().transition_model_version_stage(\n"
     ]
    },
    {
     "name": "stdout",
     "output_type": "stream",
     "text": [
      "Logistic_Regression logged with accuracy: 1.0\n",
      "Model Logistic_Regression registered in the Model Registry as Logistic_Regression_Model with version 2\n"
     ]
    },
    {
     "name": "stderr",
     "output_type": "stream",
     "text": [
      "2024/09/25 09:38:13 WARNING mlflow.models.model: Input example should be provided to infer model signature if the model signature is not provided when logging the model.\n",
      "Registered model 'Random_Forest_Model' already exists. Creating a new version of this model...\n",
      "Created version '2' of model 'Random_Forest_Model'.\n",
      "C:\\Users\\mathew.kenny\\AppData\\Local\\Temp\\ipykernel_15204\\729657894.py:39: FutureWarning: ``mlflow.tracking.client.MlflowClient.transition_model_version_stage`` is deprecated since 2.9.0. Model registry stages will be removed in a future major release. To learn more about the deprecation of model registry stages, see our migration guide here: https://mlflow.org/docs/latest/model-registry.html#migrating-from-stages\n",
      "  mlflow.tracking.MlflowClient().transition_model_version_stage(\n"
     ]
    },
    {
     "name": "stdout",
     "output_type": "stream",
     "text": [
      "Random_Forest logged with accuracy: 1.0\n",
      "Model Random_Forest registered in the Model Registry as Random_Forest_Model with version 2\n"
     ]
    },
    {
     "name": "stderr",
     "output_type": "stream",
     "text": [
      "2024/09/25 09:38:16 WARNING mlflow.models.model: Input example should be provided to infer model signature if the model signature is not provided when logging the model.\n"
     ]
    },
    {
     "name": "stdout",
     "output_type": "stream",
     "text": [
      "SVM logged with accuracy: 1.0\n",
      "Model SVM registered in the Model Registry as SVM_Model with version 2\n",
      "All models registered to the Model Registry.\n"
     ]
    },
    {
     "name": "stderr",
     "output_type": "stream",
     "text": [
      "Registered model 'SVM_Model' already exists. Creating a new version of this model...\n",
      "Created version '2' of model 'SVM_Model'.\n",
      "C:\\Users\\mathew.kenny\\AppData\\Local\\Temp\\ipykernel_15204\\729657894.py:39: FutureWarning: ``mlflow.tracking.client.MlflowClient.transition_model_version_stage`` is deprecated since 2.9.0. Model registry stages will be removed in a future major release. To learn more about the deprecation of model registry stages, see our migration guide here: https://mlflow.org/docs/latest/model-registry.html#migrating-from-stages\n",
      "  mlflow.tracking.MlflowClient().transition_model_version_stage(\n"
     ]
    }
   ],
   "source": [
    "import mlflow\n",
    "import mlflow.sklearn\n",
    "from sklearn.datasets import load_iris\n",
    "from sklearn.model_selection import train_test_split\n",
    "from sklearn.linear_model import LogisticRegression\n",
    "from sklearn.ensemble import RandomForestClassifier\n",
    "from sklearn.svm import SVC\n",
    "from sklearn.metrics import accuracy_score\n",
    "\n",
    "# Load dataset\n",
    "iris = load_iris()\n",
    "X = iris.data\n",
    "y = iris.target\n",
    "\n",
    "# Split dataset\n",
    "X_train, X_test, y_train, y_test = train_test_split(X, y, test_size=0.2, random_state=42)\n",
    "\n",
    "# Define a function to train, log models, and register them to MLflow\n",
    "def train_log_and_register_model(model, model_name, experiment_name, model_registry_name):\n",
    "    mlflow.set_experiment(experiment_name)  # Set experiment name\n",
    "\n",
    "    with mlflow.start_run(run_name=model_name) as run:\n",
    "        model.fit(X_train, y_train)  # Train the model\n",
    "        predictions = model.predict(X_test)\n",
    "        accuracy = accuracy_score(y_test, predictions)\n",
    "\n",
    "        # Log model and metrics to MLflow\n",
    "        mlflow.log_param(\"model_type\", model_name)\n",
    "        mlflow.log_metric(\"accuracy\", accuracy)\n",
    "        mlflow.sklearn.log_model(model, artifact_path=model_name)\n",
    "\n",
    "        print(f\"{model_name} logged with accuracy: {accuracy}\")\n",
    "\n",
    "        # Register model to the model registry\n",
    "        model_uri = f\"runs:/{run.info.run_id}/{model_name}\"\n",
    "        registered_model = mlflow.register_model(model_uri=model_uri, name=model_registry_name)\n",
    "\n",
    "        # Transition the model to \"Staging\" or \"Production\" if desired\n",
    "        mlflow.tracking.MlflowClient().transition_model_version_stage(\n",
    "            name=model_registry_name,\n",
    "            version=registered_model.version,\n",
    "            stage=\"Staging\"\n",
    "        )\n",
    "\n",
    "        print(f\"Model {model_name} registered in the Model Registry as {model_registry_name} with version {registered_model.version}\")\n",
    "\n",
    "\n",
    "# Logistic Regression\n",
    "logreg_model = LogisticRegression(max_iter=200)\n",
    "train_log_and_register_model(logreg_model, \"Logistic_Regression\", experiment_name=\"LogReg_Experiment\", model_registry_name=\"Logistic_Regression_Model\")\n",
    "\n",
    "# Random Forest\n",
    "rf_model = RandomForestClassifier(n_estimators=100)\n",
    "train_log_and_register_model(rf_model, \"Random_Forest\", experiment_name=\"RandomForest_Experiment\", model_registry_name=\"Random_Forest_Model\")\n",
    "\n",
    "# Support Vector Classifier\n",
    "svm_model = SVC(kernel='linear')\n",
    "train_log_and_register_model(svm_model, \"SVM\", experiment_name=\"SVM_Experiment\", model_registry_name=\"SVM_Model\")\n",
    "\n",
    "print(\"All models registered to the Model Registry.\")\n"
   ]
  },
  {
   "cell_type": "code",
   "execution_count": null,
   "id": "f6254480",
   "metadata": {},
   "outputs": [],
   "source": []
  }
 ],
 "metadata": {
  "kernelspec": {
   "display_name": "Python 3 (ipykernel)",
   "language": "python",
   "name": "python3"
  },
  "language_info": {
   "codemirror_mode": {
    "name": "ipython",
    "version": 3
   },
   "file_extension": ".py",
   "mimetype": "text/x-python",
   "name": "python",
   "nbconvert_exporter": "python",
   "pygments_lexer": "ipython3",
   "version": "3.11.5"
  }
 },
 "nbformat": 4,
 "nbformat_minor": 5
}
