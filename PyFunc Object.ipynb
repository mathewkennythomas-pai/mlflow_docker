{
 "cells": [
  {
   "cell_type": "code",
   "execution_count": 4,
   "metadata": {},
   "outputs": [
    {
     "name": "stderr",
     "output_type": "stream",
     "text": [
      "2024/09/30 10:17:30 WARNING mlflow.models.model: Input example should be provided to infer model signature if the model signature is not provided when logging the model.\n"
     ]
    },
    {
     "name": "stdout",
     "output_type": "stream",
     "text": [
      "Model logged with run_id: f940d5cc92a3408abdbd67a04592f534\n",
      "MSE: 1.9571\n",
      "R2 Score: -6.6511\n"
     ]
    }
   ],
   "source": [
    "import mlflow\n",
    "import pandas as pd\n",
    "import numpy as np\n",
    "from sklearn.model_selection import train_test_split\n",
    "from sklearn.metrics import mean_squared_error, r2_score\n",
    "from sklearn.preprocessing import StandardScaler\n",
    "\n",
    "# Define a custom PyFunc model\n",
    "class CustomModel(mlflow.pyfunc.PythonModel):\n",
    "    def __init__(self):\n",
    "        self.model = None\n",
    "    \n",
    "    def fit(self, X, y):\n",
    "        # Implement your custom model fitting logic here\n",
    "        # For this example, we'll use a simple linear regression\n",
    "        self.model = np.linalg.lstsq(X, y, rcond=None)[0]\n",
    "    \n",
    "    def predict(self, context, model_input):\n",
    "        return np.dot(model_input, self.model)\n",
    "\n",
    "# Set up MLflow experiment\n",
    "mlflow.set_experiment(\"CustomPyFuncExperiment\")\n",
    "\n",
    "# Generate sample data\n",
    "X = np.random.rand(100, 3)\n",
    "y = np.sum(X, axis=1) + np.random.normal(0, 0.1, 100)\n",
    "\n",
    "# Split the data\n",
    "X_train, X_test, y_train, y_test = train_test_split(X, y, test_size=0.2, random_state=42)\n",
    "\n",
    "# Scale the features\n",
    "scaler = StandardScaler()\n",
    "X_train_scaled = scaler.fit_transform(X_train)\n",
    "X_test_scaled = scaler.transform(X_test)\n",
    "\n",
    "# Start MLflow run\n",
    "with mlflow.start_run():\n",
    "    # Create and train the custom model\n",
    "    custom_model = CustomModel()\n",
    "    custom_model.fit(X_train_scaled, y_train)\n",
    "    \n",
    "    # Log model parameters (if any)\n",
    "    mlflow.log_param(\"num_features\", X.shape[1])\n",
    "    \n",
    "    # Make predictions\n",
    "    y_pred = custom_model.predict(None, X_test_scaled)\n",
    "    \n",
    "    # Calculate metrics\n",
    "    mse = mean_squared_error(y_test, y_pred)\n",
    "    r2 = r2_score(y_test, y_pred)\n",
    "    \n",
    "    # Log metrics\n",
    "    mlflow.log_metric(\"mse\", mse)\n",
    "    mlflow.log_metric(\"r2\", r2)\n",
    "    \n",
    "    # Log the custom model as a PyFunc\n",
    "    mlflow.pyfunc.log_model(\"custom_model\", python_model=custom_model)\n",
    "    \n",
    "    run_id = mlflow.active_run().info.run_id\n",
    "    \n",
    "    print(f\"Model logged with run_id: {mlflow.active_run().info.run_id}\")\n",
    "    print(f\"MSE: {mse:.4f}\")\n",
    "    print(f\"R2 Score: {r2:.4f}\")\n",
    "\n"
   ]
  },
  {
   "cell_type": "code",
   "execution_count": 5,
   "metadata": {},
   "outputs": [
    {
     "name": "stdout",
     "output_type": "stream",
     "text": [
      "Predictions from loaded model:\n",
      "[-0.24220425  0.28896695  0.26188466 -0.25961663  0.02547142  0.53590976\n",
      " -0.00808452 -0.45540666 -0.112865    0.61923423]\n"
     ]
    }
   ],
   "source": [
    "# Load the logged model\n",
    "loaded_model = mlflow.pyfunc.load_model(f\"runs:/{run_id}/custom_model\")\n",
    "\n",
    "# Make predictions using the loaded model\n",
    "new_data = np.random.rand(10, 3)\n",
    "new_data_scaled = scaler.transform(new_data)\n",
    "predictions = loaded_model.predict(new_data_scaled)\n",
    "\n",
    "print(\"Predictions from loaded model:\")\n",
    "print(predictions)\n"
   ]
  },
  {
   "cell_type": "code",
   "execution_count": 6,
   "metadata": {},
   "outputs": [
    {
     "name": "stdout",
     "output_type": "stream",
     "text": [
      "Model registered as: CustomPyFuncModel_Example version 1\n",
      "Predictions from loaded model:\n",
      "[ 0.23004414 -0.2793218   0.58607866  0.30976924 -0.00996094 -0.45184482\n",
      "  0.55206215  0.37900833 -0.10939631  0.34033454]\n"
     ]
    },
    {
     "name": "stderr",
     "output_type": "stream",
     "text": [
      "Successfully registered model 'CustomPyFuncModel_Example'.\n",
      "Created version '1' of model 'CustomPyFuncModel_Example'.\n"
     ]
    }
   ],
   "source": [
    "\n",
    "# Load the model from the experiment\n",
    "loaded_model = mlflow.pyfunc.load_model(f\"runs:/{run_id}/custom_model\")\n",
    "\n",
    "# Register the loaded model in the Model Registry\n",
    "model_name = \"CustomPyFuncModel_Example\"\n",
    "model_version = mlflow.register_model(f\"runs:/{run_id}/custom_model\", model_name)\n",
    "\n",
    "print(f\"Model registered as: {model_name} with version number {model_version.version}\")\n",
    "\n",
    "# Make predictions using the loaded model\n",
    "new_data = np.random.rand(10, 3)\n",
    "new_data_scaled = scaler.transform(new_data)\n",
    "predictions = loaded_model.predict(new_data_scaled)\n",
    "\n",
    "print(\"Predictions from loaded model:\")\n",
    "print(predictions)"
   ]
  },
  {
   "cell_type": "code",
   "execution_count": null,
   "metadata": {},
   "outputs": [],
   "source": []
  }
 ],
 "metadata": {
  "kernelspec": {
   "display_name": "Python 3",
   "language": "python",
   "name": "python3"
  },
  "language_info": {
   "codemirror_mode": {
    "name": "ipython",
    "version": 3
   },
   "file_extension": ".py",
   "mimetype": "text/x-python",
   "name": "python",
   "nbconvert_exporter": "python",
   "pygments_lexer": "ipython3",
   "version": "3.11.5"
  }
 },
 "nbformat": 4,
 "nbformat_minor": 2
}
